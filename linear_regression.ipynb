{
 "cells": [
  {
   "cell_type": "code",
   "execution_count": 1,
   "metadata": {},
   "outputs": [],
   "source": [
    "%matplotlib inline"
   ]
  },
  {
   "cell_type": "code",
   "execution_count": 2,
   "metadata": {},
   "outputs": [],
   "source": [
    "import numpy as np\n",
    "import matplotlib.pyplot as plt"
   ]
  },
  {
   "cell_type": "code",
   "execution_count": 3,
   "metadata": {},
   "outputs": [],
   "source": [
    "import torch\n",
    "import torch.utils.data as dutils"
   ]
  },
  {
   "cell_type": "code",
   "execution_count": 4,
   "metadata": {},
   "outputs": [],
   "source": [
    "device = 'cpu'\n",
    "seed = 99"
   ]
  },
  {
   "cell_type": "code",
   "execution_count": 22,
   "metadata": {},
   "outputs": [],
   "source": [
    "input_dim = 2\n",
    "output_dim = 1\n",
    "num_examples = 10000\n",
    "\n",
    "batch_size = 2\n",
    "\n",
    "torch.manual_seed(seed);"
   ]
  },
  {
   "cell_type": "code",
   "execution_count": 6,
   "metadata": {},
   "outputs": [],
   "source": [
    "def plot(losses, X, net, sample_size=100):\n",
    "    xs = list(range(len(losses)))\n",
    "    f, (fg1, fg2) = plt.subplots(1, 2)\n",
    "    fg1.set_title('Loss during training')\n",
    "    fg1.plot(xs, losses, '-r')\n",
    "    \n",
    "    fg2.set_title('Estimated vs real function')\n",
    "    with torch.no_grad():\n",
    "        fg2.plot(X[:sample_size, 0].cpu().numpy(),\n",
    "                 net(X[:sample_size, :]).cpu().numpy(), 'or', label='Estimated')\n",
    "        fg2.plot(X[:sample_size, 0].cpu().numpy(),\n",
    "                 real_fn(X[:sample_size, :]).cpu().numpy(), '*g', label='Real')\n",
    "    fg2.legend()\n",
    "\n",
    "    plt.show()"
   ]
  },
  {
   "cell_type": "markdown",
   "metadata": {},
   "source": [
    "### Data Setup"
   ]
  },
  {
   "cell_type": "code",
   "execution_count": 7,
   "metadata": {},
   "outputs": [],
   "source": [
    "def real_fn(X):\n",
    "    return 2 * X[:, 0] - 3.4 * X[:, 1] + 4.2"
   ]
  },
  {
   "cell_type": "code",
   "execution_count": 8,
   "metadata": {},
   "outputs": [],
   "source": [
    "X = torch.randn(size=(num_examples, input_dim), device=device)\n",
    "noise = 0.1 * torch.randn(num_examples, device=device)\n",
    "Y = real_fn(X) + noise"
   ]
  },
  {
   "cell_type": "code",
   "execution_count": 9,
   "metadata": {},
   "outputs": [
    {
     "name": "stdout",
     "output_type": "stream",
     "text": [
      "Data sample:  tensor([ 0.2995, -2.6429]) tensor(13.7714)\n",
      "Data target before noise:  tensor(13.7846)\n"
     ]
    }
   ],
   "source": [
    "print('Data sample: ', X[0], Y[0])\n",
    "print('Data target before noise: ', 2 * X[0, 0] - 3.4 * X[0, 1] + 4.2)"
   ]
  },
  {
   "cell_type": "code",
   "execution_count": 10,
   "metadata": {},
   "outputs": [
    {
     "data": {
      "image/png": "[encoded data removed]",
      "text/plain": [
       "<Figure size 432x288 with 1 Axes>"
      ]
     },
     "metadata": {
      "needs_background": "light"
     },
     "output_type": "display_data"
    }
   ],
   "source": [
    "f = X.numpy()[:, 0]\n",
    "t = Y.numpy()\n",
    "plt.scatter(f, t);"
   ]
  },
  {
   "cell_type": "code",
   "execution_count": 23,
   "metadata": {},
   "outputs": [],
   "source": [
    "dataset = dutils.TensorDataset(X, Y)\n",
    "train_loader = dutils.DataLoader(dataset, shuffle=True, batch_size=batch_size)"
   ]
  },
  {
   "cell_type": "code",
   "execution_count": 24,
   "metadata": {
    "scrolled": true
   },
   "outputs": [
    {
     "name": "stdout",
     "output_type": "stream",
     "text": [
      "tensor([[-0.5023,  0.3130],\n",
      "        [-0.8637,  1.5604]]) tensor([ 2.0765, -2.7440])\n"
     ]
    }
   ],
   "source": [
    "for i, (row, target) in enumerate(train_loader):\n",
    "    print(row, target)\n",
    "    break"
   ]
  },
  {
   "cell_type": "markdown",
   "metadata": {},
   "source": [
    "### Model setup"
   ]
  },
  {
   "cell_type": "code",
   "execution_count": 25,
   "metadata": {},
   "outputs": [],
   "source": [
    "class Net():\n",
    "    def __init__(self, input_dim, out_dim, device):\n",
    "        self.w = torch.randn(size=(input_dim, output_dim), device=device, requires_grad=True)\n",
    "        self.b = torch.randn(size=(output_dim, 1), device=device, requires_grad=True)\n",
    "#         print('Weight shape: ', self.w.shape)\n",
    "#         print('Bias shape: ', self.b.shape)\n",
    "        \n",
    "    def forward(self, x):\n",
    "        w = self.w\n",
    "        bias = self.b\n",
    "        out = torch.mm(x, w) + bias\n",
    "        return out.squeeze()\n",
    "    \n",
    "    def parameters(self):\n",
    "        return [self.w, self.b]\n",
    "    \n",
    "    def zero_grad(self):\n",
    "        self.w.grad = None\n",
    "        self.b.grad = None\n",
    "        \n",
    "    def __call__(self, x):\n",
    "        return self.forward(x)"
   ]
  },
  {
   "cell_type": "code",
   "execution_count": 26,
   "metadata": {},
   "outputs": [],
   "source": [
    "def square_loss(yhat, y):\n",
    "    return ((yhat - y) ** 2).mean()"
   ]
  },
  {
   "cell_type": "code",
   "execution_count": 27,
   "metadata": {},
   "outputs": [],
   "source": [
    "def SGD(params, lr):\n",
    "    for param in params:\n",
    "#         print(param)\n",
    "        param.data = param.data - lr * param.grad\n",
    "#         print(param)"
   ]
  },
  {
   "cell_type": "code",
   "execution_count": 30,
   "metadata": {},
   "outputs": [],
   "source": [
    "net = Net(input_dim, output_dim, device)"
   ]
  },
  {
   "cell_type": "code",
   "execution_count": 31,
   "metadata": {
    "scrolled": true
   },
   "outputs": [
    {
     "data": {
      "image/png": "[encoded data removed]",
      "text/plain": [
       "<Figure size 432x288 with 2 Axes>"
      ]
     },
     "metadata": {
      "needs_background": "light"
     },
     "output_type": "display_data"
    },
    {
     "name": "stdout",
     "output_type": "stream",
     "text": [
      "14.402484302082424\n",
      "2.02622205091138\n",
      "0.29267642818027306\n",
      "0.04964822954434139\n",
      "0.015586895019132225\n"
     ]
    },
    {
     "data": {
      "image/png": "[encoded data removed]",
      "text/plain": [
       "<Figure size 432x288 with 2 Axes>"
      ]
     },
     "metadata": {
      "needs_background": "light"
     },
     "output_type": "display_data"
    }
   ],
   "source": [
    "epochs = 5\n",
    "learning_rate = .0001\n",
    "num_batches = num_examples / batch_size\n",
    "params = net.parameters()\n",
    "\n",
    "losses = []\n",
    "plot(losses, X, net)\n",
    "for e in range(epochs):\n",
    "    cumulative_loss = 0\n",
    "    # inner loop\n",
    "    for i, (data, label) in enumerate(train_loader):\n",
    "        \n",
    "        output = net(data)\n",
    "        loss = square_loss(output, label)\n",
    "        \n",
    "        loss.backward()\n",
    "        SGD(params, learning_rate)\n",
    "        net.zero_grad()\n",
    "        \n",
    "        cumulative_loss += loss.item()\n",
    "    print(cumulative_loss / num_batches)\n",
    "    losses.append(cumulative_loss/num_batches)\n",
    "    \n",
    "plot(losses, X, net)"
   ]
  },
  {
   "cell_type": "code",
   "execution_count": null,
   "metadata": {},
   "outputs": [],
   "source": []
  },
  {
   "cell_type": "code",
   "execution_count": null,
   "metadata": {},
   "outputs": [],
   "source": []
  },
  {
   "cell_type": "code",
   "execution_count": null,
   "metadata": {},
   "outputs": [],
   "source": []
  },
  {
   "cell_type": "code",
   "execution_count": null,
   "metadata": {},
   "outputs": [],
   "source": []
  }
 ],
 "metadata": {
  "kernelspec": {
   "display_name": "Python 3",
   "language": "python",
   "name": "python3"
  },
  "language_info": {
   "codemirror_mode": {
    "name": "ipython",
    "version": 2
   },
   "file_extension": ".py",
   "mimetype": "text/x-python",
   "name": "python",
   "nbconvert_exporter": "python",
   "pygments_lexer": "ipython2",
   "version": "2.7.12"
  }
 },
 "nbformat": 4,
 "nbformat_minor": 2
}
