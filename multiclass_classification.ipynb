{
 "cells": [
  {
   "cell_type": "code",
   "execution_count": 1,
   "metadata": {},
   "outputs": [],
   "source": [
    "%matplotlib inline"
   ]
  },
  {
   "cell_type": "code",
   "execution_count": 2,
   "metadata": {},
   "outputs": [],
   "source": [
    "import numpy as np\n",
    "import matplotlib.pyplot as plt"
   ]
  },
  {
   "cell_type": "code",
   "execution_count": 3,
   "metadata": {},
   "outputs": [],
   "source": [
    "import torch\n",
    "import torch.utils.data as dutils\n",
    "\n",
    "import torchvision.datasets as dataset\n",
    "import torchvision.transforms as dtrans"
   ]
  },
  {
   "cell_type": "code",
   "execution_count": 4,
   "metadata": {},
   "outputs": [],
   "source": [
    "device = 'cuda'\n",
    "seed = 99"
   ]
  },
  {
   "cell_type": "code",
   "execution_count": 5,
   "metadata": {},
   "outputs": [],
   "source": [
    "input_dim = 784\n",
    "output_dim = 10\n",
    "num_examples = 60000\n",
    "\n",
    "batch_size = 32\n",
    "\n",
    "torch.manual_seed(seed);"
   ]
  },
  {
   "cell_type": "markdown",
   "metadata": {},
   "source": [
    "### Data setup"
   ]
  },
  {
   "cell_type": "code",
   "execution_count": 6,
   "metadata": {},
   "outputs": [],
   "source": [
    "transform = dtrans.Compose([dtrans.ToTensor(), dtrans.Normalize((0.5,), (0.5,))])\n",
    "train_set = dataset.MNIST(root=\"../../data/\", download=True, train=True, transform=transform)\n",
    "test_set = dataset.MNIST(root=\"../../data/\", download=True, train=False, transform=transform)\n",
    "\n",
    "train_loader = dutils.DataLoader(train_set, batch_size=batch_size, shuffle=True)\n",
    "test_loader = dutils.DataLoader(test_set, batch_size=batch_size, shuffle=False)"
   ]
  },
  {
   "cell_type": "markdown",
   "metadata": {},
   "source": [
    "### Model setup"
   ]
  },
  {
   "cell_type": "code",
   "execution_count": 7,
   "metadata": {},
   "outputs": [],
   "source": [
    "def cross_entropy(yhat, y):\n",
    "    loss = -torch.log(yhat[:, y] + 1e-6)\n",
    "    return loss.mean()"
   ]
  },
  {
   "cell_type": "code",
   "execution_count": 8,
   "metadata": {},
   "outputs": [],
   "source": [
    "def softmax(y_linear):\n",
    "    row_max = y_linear.max(dim=1)[0]\n",
    "    row_max.unsqueeze_(1)\n",
    "    row_max = row_max.repeat(1, y_linear.shape[1])\n",
    "    exp = torch.exp(y_linear - row_max)\n",
    "    norm = exp.sum(dim=1).unsqueeze(1).repeat(1, y_linear.shape[1])\n",
    "    return exp / norm"
   ]
  },
  {
   "cell_type": "code",
   "execution_count": 9,
   "metadata": {},
   "outputs": [],
   "source": [
    "# sample_y_linear = torch.randn(10, 10)\n",
    "# sample_yhat = softmax(sample_y_linear)\n",
    "# print(sample_y_linear)\n",
    "# print(sample_yhat)"
   ]
  },
  {
   "cell_type": "code",
   "execution_count": 10,
   "metadata": {},
   "outputs": [],
   "source": [
    "def SGD(params, lr):\n",
    "    for param in params:\n",
    "        param.data = param.data - lr * param.grad"
   ]
  },
  {
   "cell_type": "code",
   "execution_count": 11,
   "metadata": {},
   "outputs": [],
   "source": [
    "class Net():\n",
    "    def __init__(self, input_dim, out_dim, device):\n",
    "        self.w = torch.randn(size=(input_dim, output_dim), device=device, requires_grad=True)\n",
    "        self.b = torch.randn(output_dim, device=device, requires_grad=True)\n",
    "#         print('Weight shape: ', self.w.shape)\n",
    "#         print('Bias shape: ', self.b.shape)\n",
    "        \n",
    "    def forward(self, x):\n",
    "        w = self.w\n",
    "        bias = self.b\n",
    "        out = torch.mm(x, w) + bias\n",
    "        out = softmax(out)\n",
    "        return out.squeeze()\n",
    "    \n",
    "    def parameters(self):\n",
    "        return [self.w, self.b]\n",
    "    \n",
    "    def zero_grad(self):\n",
    "        self.w.grad = None\n",
    "        self.b.grad = None\n",
    "        \n",
    "    def __call__(self, x):\n",
    "        return self.forward(x)"
   ]
  },
  {
   "cell_type": "code",
   "execution_count": 12,
   "metadata": {},
   "outputs": [],
   "source": [
    "def test(net, test_loader, device):\n",
    "    loss = 0\n",
    "    error = 0\n",
    "    for i, (images, labels) in enumerate(test_loader):\n",
    "        images, labels = images.to(device), labels.to(device)\n",
    "        images = images.view(-1, input_dim)\n",
    "        with torch.no_grad():\n",
    "            out = net(images)\n",
    "            loss += cross_entropy(out, labels).item()\n",
    "            error += (out.argmax(1) != labels).sum().item()\n",
    "    loss /= i       \n",
    "    print('Loss: %.4f, Error: %d' % (loss, error))"
   ]
  },
  {
   "cell_type": "code",
   "execution_count": 13,
   "metadata": {},
   "outputs": [],
   "source": [
    "def train(net, train_loader, device):\n",
    "    params = net.parameters()\n",
    "    lr = 0.05\n",
    "    \n",
    "    loss = 0\n",
    "    error = 0\n",
    "    for i, (images, labels) in enumerate(train_loader):\n",
    "        images, labels = images.to(device), labels.to(device)\n",
    "        images = images.view(-1, 784)\n",
    "        \n",
    "        out = net(images)\n",
    "        loss_batch = cross_entropy(out, labels)\n",
    "        \n",
    "        net.zero_grad()\n",
    "        loss_batch.backward()\n",
    "        SGD(params, lr)\n",
    "        \n",
    "        loss += loss_batch.item()\n",
    "        error += (out.argmax(1) != labels).sum().item()\n",
    "    loss /= i       \n",
    "    print('Loss: %.4f, Error: %d' % (loss, error))"
   ]
  },
  {
   "cell_type": "code",
   "execution_count": null,
   "metadata": {},
   "outputs": [
    {
     "name": "stdout",
     "output_type": "stream",
     "text": [
      "Loss: 11.9037, Error: 9237\n",
      "Loss: 10.4815, Error: 53149\n",
      "Loss: 9.6393, Error: 8787\n",
      "Loss: 8.6890, Error: 52342\n",
      "Loss: 7.6064, Error: 8752\n",
      "Loss: 6.9661, Error: 52471\n",
      "Loss: 6.1948, Error: 8758\n",
      "Loss: 5.9001, Error: 52746\n",
      "Loss: 6.3346, Error: 8815\n",
      "Loss: 5.4730, Error: 52726\n",
      "Loss: 5.4648, Error: 8846\n",
      "Loss: 5.3808, Error: 52879\n",
      "Loss: 5.0378, Error: 8764\n",
      "Loss: 5.4657, Error: 52833\n",
      "Loss: 5.0953, Error: 8690\n",
      "Loss: 5.5544, Error: 52710\n",
      "Loss: 5.2022, Error: 8989\n",
      "Loss: 5.6810, Error: 52810\n",
      "Loss: 4.7876, Error: 8796\n",
      "Loss: 5.7221, Error: 52761\n",
      "Loss: 8.5183, Error: 9007\n",
      "Loss: 6.0051, Error: 52724\n",
      "Loss: 4.9018, Error: 8976\n",
      "Loss: 5.7725, Error: 52678\n",
      "Loss: 6.0535, Error: 8668\n",
      "Loss: 6.1507, Error: 52669\n",
      "Loss: 6.0806, Error: 8995\n",
      "Loss: 6.1019, Error: 52745\n",
      "Loss: 6.5479, Error: 8973\n",
      "Loss: 6.2497, Error: 52777\n",
      "Loss: 5.0957, Error: 8726\n",
      "Loss: 6.2973, Error: 52725\n",
      "Loss: 5.4567, Error: 8794\n",
      "Loss: 6.1098, Error: 52680\n",
      "Loss: 4.2894, Error: 8890\n",
      "Loss: 6.3927, Error: 52673\n",
      "Loss: 8.3267, Error: 8843\n"
     ]
    }
   ],
   "source": [
    "net = Net(input_dim, output_dim, device)\n",
    "\n",
    "test(net, test_loader, device)\n",
    "for epochs in range(50):\n",
    "    train(net, train_loader, device)\n",
    "    test(net, test_loader, device)"
   ]
  },
  {
   "cell_type": "code",
   "execution_count": null,
   "metadata": {},
   "outputs": [],
   "source": []
  }
 ],
 "metadata": {
  "kernelspec": {
   "display_name": "Python 3",
   "language": "python",
   "name": "python3"
  },
  "language_info": {
   "codemirror_mode": {
    "name": "ipython",
    "version": 3
   },
   "file_extension": ".py",
   "mimetype": "text/x-python",
   "name": "python",
   "nbconvert_exporter": "python",
   "pygments_lexer": "ipython3",
   "version": "3.5.2"
  }
 },
 "nbformat": 4,
 "nbformat_minor": 2
}
