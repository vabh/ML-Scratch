{
 "cells": [
  {
   "cell_type": "code",
   "execution_count": 1,
   "metadata": {},
   "outputs": [],
   "source": [
    "%matplotlib inline"
   ]
  },
  {
   "cell_type": "code",
   "execution_count": 2,
   "metadata": {},
   "outputs": [],
   "source": [
    "import numpy as np\n",
    "import matplotlib.pyplot as plt"
   ]
  },
  {
   "cell_type": "code",
   "execution_count": 3,
   "metadata": {},
   "outputs": [],
   "source": [
    "import torch\n",
    "import torch.utils.data as dutils\n",
    "\n",
    "import torchvision.datasets as dataset\n",
    "import torchvision.transforms as dtrans"
   ]
  },
  {
   "cell_type": "code",
   "execution_count": 4,
   "metadata": {},
   "outputs": [],
   "source": [
    "dataroot = '/home/dutta/data/'\n",
    "device = 'cpu'\n",
    "seed = 99"
   ]
  },
  {
   "cell_type": "code",
   "execution_count": 5,
   "metadata": {},
   "outputs": [],
   "source": [
    "input_dim = 784\n",
    "output_dim = 10\n",
    "num_examples = 60000\n",
    "\n",
    "batch_size = 32\n",
    "\n",
    "torch.manual_seed(seed);"
   ]
  },
  {
   "cell_type": "markdown",
   "metadata": {},
   "source": [
    "### Data setup"
   ]
  },
  {
   "cell_type": "code",
   "execution_count": 6,
   "metadata": {},
   "outputs": [],
   "source": [
    "transform = dtrans.Compose([dtrans.Grayscale(num_output_channels=1),\n",
    "                            dtrans.Resize((28,28)),\n",
    "                            dtrans.ToTensor(), dtrans.Normalize((0.5,), (0.5,))])\n",
    "train_set = dataset.MNIST(root=dataroot, download=False, train=True, transform=transform)\n",
    "test_set = dataset.MNIST(root=dataroot, download=False, train=False, transform=transform)\n",
    "\n",
    "train_loader = dutils.DataLoader(train_set, batch_size=batch_size, shuffle=True)\n",
    "test_loader = dutils.DataLoader(test_set, batch_size=batch_size, shuffle=False)"
   ]
  },
  {
   "cell_type": "markdown",
   "metadata": {},
   "source": [
    "### Model setup"
   ]
  },
  {
   "cell_type": "code",
   "execution_count": 7,
   "metadata": {},
   "outputs": [],
   "source": [
    "def l2_penalty(weight):\n",
    "    penalty = torch.pow(weight, 2)\n",
    "    penalty = torch.sqrt(penalty).mean()\n",
    "    return penalty        "
   ]
  },
  {
   "cell_type": "code",
   "execution_count": 8,
   "metadata": {},
   "outputs": [],
   "source": [
    "def cross_entropy(yhat, y):\n",
    "    probs = torch.gather(yhat, 1, y.view(-1, 1))\n",
    "    loss = -torch.log(probs + 1e-6)\n",
    "    return loss.mean()"
   ]
  },
  {
   "cell_type": "code",
   "execution_count": 9,
   "metadata": {},
   "outputs": [],
   "source": [
    "def softmax(y_linear):\n",
    "    row_max = y_linear.max(dim=1)[0]\n",
    "    row_max.unsqueeze_(1)\n",
    "    row_max = row_max.repeat(1, y_linear.shape[1])\n",
    "    exp = torch.exp(y_linear - row_max)\n",
    "    norm = exp.sum(dim=1).unsqueeze(1).repeat(1, y_linear.shape[1])\n",
    "    return exp / norm"
   ]
  },
  {
   "cell_type": "code",
   "execution_count": 9,
   "metadata": {},
   "outputs": [],
   "source": [
    "# sample_y_linear = torch.randn(10, 10)\n",
    "# sample_yhat = softmax(sample_y_linear)\n",
    "# print(sample_y_linear)\n",
    "# print(sample_yhat)"
   ]
  },
  {
   "cell_type": "code",
   "execution_count": 10,
   "metadata": {},
   "outputs": [],
   "source": [
    "def SGD(params, lr):\n",
    "    for param in params:\n",
    "        param.data = param.data - lr * param.grad"
   ]
  },
  {
   "cell_type": "code",
   "execution_count": 11,
   "metadata": {},
   "outputs": [],
   "source": [
    "class Net():\n",
    "    def __init__(self, input_dim, out_dim, device):\n",
    "        w = torch.randn(size=(input_dim, output_dim), device=device)\n",
    "        b = torch.randn(output_dim, device=device)\n",
    "        self.w = w / torch.norm(w)\n",
    "        self.b = b /torch.norm(b)\n",
    "        self.w.requires_grad = True\n",
    "        self.b.requires_grad = True\n",
    "#         print('Weight shape: ', self.w.shape)\n",
    "#         print('Bias shape: ', self.b.shape)\n",
    "        \n",
    "    def forward(self, x):\n",
    "        w = self.w\n",
    "        bias = self.b\n",
    "        out = torch.mm(x, w) + bias\n",
    "        out = softmax(out)\n",
    "        return out.squeeze()\n",
    "    \n",
    "    def parameters(self):\n",
    "        return [self.w, self.b]\n",
    "    \n",
    "    def zero_grad(self):\n",
    "        self.w.grad = None\n",
    "        self.b.grad = None\n",
    "        \n",
    "    def __call__(self, x):\n",
    "        return self.forward(x)"
   ]
  },
  {
   "cell_type": "code",
   "execution_count": 19,
   "metadata": {},
   "outputs": [],
   "source": [
    "def test(net, test_loader, device):\n",
    "    loss = 0\n",
    "    error = 0\n",
    "    for i, (images, labels) in enumerate(test_loader):\n",
    "        images, labels = images.to(device), labels.to(device)\n",
    "        images = images.view(-1, input_dim)\n",
    "        with torch.no_grad():\n",
    "            out = net(images)\n",
    "            loss += cross_entropy(out, labels).item()\n",
    "            error += (out.argmax(1) != labels).sum().item()\n",
    "    loss /= i       \n",
    "    print('[Test] Loss: %.4f, Error: %d' % (loss, error))"
   ]
  },
  {
   "cell_type": "code",
   "execution_count": 20,
   "metadata": {},
   "outputs": [],
   "source": [
    "def train(net, train_loader, device):\n",
    "    params = net.parameters()\n",
    "    lr = 0.1\n",
    "    \n",
    "    loss = 0\n",
    "    error = 0\n",
    "    for i, (images, labels) in enumerate(train_loader):\n",
    "        images, labels = images.to(device), labels.to(device)\n",
    "        images = images.view(-1, 784)\n",
    "        \n",
    "        out = net(images)\n",
    "        loss_batch = cross_entropy(out, labels)\n",
    "        loss_batch = loss_batch + 2 * l2_penalty(net.w)\n",
    "        \n",
    "        net.zero_grad()\n",
    "        loss_batch.backward()\n",
    "#         SGD(params, lr)\n",
    "        opt.step()\n",
    "        \n",
    "        loss += loss_batch.item()\n",
    "        error += (out.argmax(1) != labels).sum().item()\n",
    "    loss /= i       \n",
    "    print('[TRAIN] Loss: %.4f, Error: %d' % (loss, error))"
   ]
  },
  {
   "cell_type": "code",
   "execution_count": null,
   "metadata": {
    "scrolled": true
   },
   "outputs": [
    {
     "name": "stdout",
     "output_type": "stream",
     "text": [
      "[Test] Loss: 2.4217, Error: 9106\n",
      "[TRAIN] Loss: 0.4995, Error: 7666\n",
      "[Test] Loss: 0.3678, Error: 1000\n",
      "[TRAIN] Loss: 0.4641, Error: 6532\n",
      "[Test] Loss: 0.3362, Error: 969\n",
      "[TRAIN] Loss: 0.4726, Error: 6465\n",
      "[Test] Loss: 0.4701, Error: 1349\n",
      "[TRAIN] Loss: 0.4775, Error: 6585\n",
      "[Test] Loss: 0.3395, Error: 964\n",
      "[TRAIN] Loss: 0.4648, Error: 6236\n",
      "[Test] Loss: 0.3809, Error: 1056\n",
      "[TRAIN] Loss: 0.4730, Error: 6435\n",
      "[Test] Loss: 0.3509, Error: 931\n",
      "[TRAIN] Loss: 0.4741, Error: 6451\n",
      "[Test] Loss: 0.3439, Error: 1003\n",
      "[TRAIN] Loss: 0.4668, Error: 6312\n",
      "[Test] Loss: 0.4066, Error: 1101\n",
      "[TRAIN] Loss: 0.4701, Error: 6263\n",
      "[Test] Loss: 0.4384, Error: 1301\n",
      "[TRAIN] Loss: 0.4729, Error: 6341\n",
      "[Test] Loss: 0.4059, Error: 1147\n",
      "[TRAIN] Loss: 0.4668, Error: 6216\n",
      "[Test] Loss: 0.3806, Error: 1020\n",
      "[TRAIN] Loss: 0.4690, Error: 6314\n",
      "[Test] Loss: 0.3881, Error: 1070\n",
      "[TRAIN] Loss: 0.4744, Error: 6400\n",
      "[Test] Loss: 0.3828, Error: 1113\n",
      "[TRAIN] Loss: 0.4666, Error: 6280\n",
      "[Test] Loss: 0.3599, Error: 1007\n",
      "[TRAIN] Loss: 0.4696, Error: 6274\n",
      "[Test] Loss: 0.3281, Error: 936\n",
      "[TRAIN] Loss: 0.4675, Error: 6207\n",
      "[Test] Loss: 0.3259, Error: 927\n",
      "[TRAIN] Loss: 0.4678, Error: 6298\n",
      "[Test] Loss: 0.4161, Error: 1174\n",
      "[TRAIN] Loss: 0.4686, Error: 6282\n",
      "[Test] Loss: 0.3360, Error: 936\n",
      "[TRAIN] Loss: 0.4666, Error: 6224\n",
      "[Test] Loss: 0.4076, Error: 1108\n",
      "[TRAIN] Loss: 0.4708, Error: 6229\n",
      "[Test] Loss: 0.4134, Error: 1161\n",
      "[TRAIN] Loss: 0.4729, Error: 6407\n",
      "[Test] Loss: 0.4110, Error: 1175\n",
      "[TRAIN] Loss: 0.4644, Error: 6218\n",
      "[Test] Loss: 0.4017, Error: 1102\n",
      "[TRAIN] Loss: 0.4659, Error: 6259\n",
      "[Test] Loss: 0.3389, Error: 976\n",
      "[TRAIN] Loss: 0.4682, Error: 6176\n",
      "[Test] Loss: 0.3129, Error: 839\n",
      "[TRAIN] Loss: 0.4706, Error: 6317\n",
      "[Test] Loss: 0.4102, Error: 1215\n",
      "[TRAIN] Loss: 0.4701, Error: 6277\n",
      "[Test] Loss: 0.3197, Error: 914\n",
      "[TRAIN] Loss: 0.4644, Error: 6198\n",
      "[Test] Loss: 0.3351, Error: 899\n",
      "[TRAIN] Loss: 0.4585, Error: 6164\n",
      "[Test] Loss: 0.3804, Error: 1035\n",
      "[TRAIN] Loss: 0.4673, Error: 6226\n",
      "[Test] Loss: 0.4234, Error: 1177\n"
     ]
    }
   ],
   "source": [
    "net = Net(input_dim, output_dim, device)\n",
    "opt = torch.optim.Adam(net.parameters(), lr=0.003)\n",
    "\n",
    "test(net, test_loader, device)\n",
    "# print l2_penalty(net.w)\n",
    "for epochs in range(50):\n",
    "    train(net, train_loader, device)\n",
    "    test(net, test_loader, device)\n",
    "#     print l2_penalty(net.w)"
   ]
  },
  {
   "cell_type": "code",
   "execution_count": 64,
   "metadata": {
    "collapsed": true
   },
   "outputs": [
    {
     "name": "stdout",
     "output_type": "stream",
     "text": [
      "tensor([[-1.4813,  0.3770,  1.1661,  1.1120,  0.7396],\n",
      "        [-1.1656,  0.3580, -1.0823,  1.3389,  0.7177],\n",
      "        [ 0.8475, -1.3822, -0.1256, -0.7188, -1.2978],\n",
      "        [ 1.3189,  1.2414, -0.3685,  0.1967, -0.3643],\n",
      "        [-0.6959,  0.3633, -0.3550, -0.6447, -0.6605],\n",
      "        [-0.9395,  0.2178, -2.1892, -1.5369,  1.2575],\n",
      "        [ 2.0529, -1.3377, -1.8684, -0.3506, -0.3648],\n",
      "        [ 0.1550,  1.9691, -0.3749, -0.4108,  0.0268],\n",
      "        [ 0.0091, -0.1698,  0.2955,  0.1400, -0.7759],\n",
      "        [-0.7668,  0.9081,  0.9108, -2.1320,  1.0144]])\n",
      "tensor([[0],\n",
      "        [2],\n",
      "        [0],\n",
      "        [2],\n",
      "        [0],\n",
      "        [4],\n",
      "        [0],\n",
      "        [4],\n",
      "        [2],\n",
      "        [3]])\n"
     ]
    }
   ],
   "source": [
    "a = torch.randn(10, 5)\n",
    "b = (torch.rand(10)*5).long()\n",
    "\n",
    "print a\n",
    "print b.view(-1, 1)\n",
    "\n",
    "# torch.gather(a, 1, b.view(-1, 1))\n"
   ]
  }
 ],
 "metadata": {
  "kernelspec": {
   "display_name": "Python 2",
   "language": "python",
   "name": "python2"
  },
  "language_info": {
   "codemirror_mode": {
    "name": "ipython",
    "version": 2
   },
   "file_extension": ".py",
   "mimetype": "text/x-python",
   "name": "python",
   "nbconvert_exporter": "python",
   "pygments_lexer": "ipython2",
   "version": "2.7.12"
  }
 },
 "nbformat": 4,
 "nbformat_minor": 2
}
