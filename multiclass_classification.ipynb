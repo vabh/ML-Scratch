{
 "cells": [
  {
   "cell_type": "code",
   "execution_count": 1,
   "metadata": {},
   "outputs": [],
   "source": [
    "%matplotlib inline"
   ]
  },
  {
   "cell_type": "code",
   "execution_count": 2,
   "metadata": {},
   "outputs": [],
   "source": [
    "import numpy as np\n",
    "import matplotlib.pyplot as plt"
   ]
  },
  {
   "cell_type": "code",
   "execution_count": 3,
   "metadata": {},
   "outputs": [],
   "source": [
    "import torch\n",
    "import torch.utils.data as dutils\n",
    "\n",
    "import torchvision.datasets as dataset\n",
    "import torchvision.transforms as dtrans"
   ]
  },
  {
   "cell_type": "code",
   "execution_count": 6,
   "metadata": {},
   "outputs": [],
   "source": [
    "dataroot = '../data/'\n",
    "device = 'cpu'\n",
    "seed = 99"
   ]
  },
  {
   "cell_type": "code",
   "execution_count": 7,
   "metadata": {},
   "outputs": [],
   "source": [
    "input_dim = 784\n",
    "output_dim = 10\n",
    "num_examples = 60000\n",
    "\n",
    "batch_size = 32\n",
    "\n",
    "torch.manual_seed(seed);"
   ]
  },
  {
   "cell_type": "markdown",
   "metadata": {},
   "source": [
    "### Data setup"
   ]
  },
  {
   "cell_type": "code",
   "execution_count": 10,
   "metadata": {},
   "outputs": [],
   "source": [
    "transform = dtrans.Compose([dtrans.Grayscale(num_output_channels=1),\n",
    "                            dtrans.Resize((28,28)),\n",
    "                            dtrans.ToTensor(), dtrans.Normalize((0.5,), (0.5,))])\n",
    "train_set = dataset.CIFAR10(root=dataroot, download=False, train=True, transform=transform)\n",
    "test_set = dataset.CIFAR10(root=dataroot, download=False, train=False, transform=transform)\n",
    "\n",
    "train_loader = dutils.DataLoader(train_set, batch_size=batch_size, shuffle=True)\n",
    "test_loader = dutils.DataLoader(test_set, batch_size=batch_size, shuffle=False)"
   ]
  },
  {
   "cell_type": "markdown",
   "metadata": {},
   "source": [
    "### Model setup"
   ]
  },
  {
   "cell_type": "code",
   "execution_count": 106,
   "metadata": {},
   "outputs": [],
   "source": [
    "def l2_penalty(weight):\n",
    "    penalty = torch.pow(weight, 2)\n",
    "    penalty = torch.sqrt(penalty).mean()\n",
    "    return penalty        "
   ]
  },
  {
   "cell_type": "code",
   "execution_count": 58,
   "metadata": {},
   "outputs": [],
   "source": [
    "def cross_entropy(yhat, y):\n",
    "    probs = torch.gather(yhat, 1, y.view(-1, 1))\n",
    "    loss = -torch.log(probs + 1e-6)\n",
    "    return loss.mean()"
   ]
  },
  {
   "cell_type": "code",
   "execution_count": 59,
   "metadata": {},
   "outputs": [],
   "source": [
    "def softmax(y_linear):\n",
    "    row_max = y_linear.max(dim=1)[0]\n",
    "    row_max.unsqueeze_(1)\n",
    "    row_max = row_max.repeat(1, y_linear.shape[1])\n",
    "    exp = torch.exp(y_linear - row_max)\n",
    "    norm = exp.sum(dim=1).unsqueeze(1).repeat(1, y_linear.shape[1])\n",
    "    return exp / norm"
   ]
  },
  {
   "cell_type": "code",
   "execution_count": 9,
   "metadata": {},
   "outputs": [],
   "source": [
    "# sample_y_linear = torch.randn(10, 10)\n",
    "# sample_yhat = softmax(sample_y_linear)\n",
    "# print(sample_y_linear)\n",
    "# print(sample_yhat)"
   ]
  },
  {
   "cell_type": "code",
   "execution_count": 60,
   "metadata": {},
   "outputs": [],
   "source": [
    "def SGD(params, lr):\n",
    "    for param in params:\n",
    "        param.data = param.data - lr * param.grad"
   ]
  },
  {
   "cell_type": "code",
   "execution_count": null,
   "metadata": {},
   "outputs": [],
   "source": [
    "class Net():\n",
    "    def __init__(self, input_dim, out_dim, device):\n",
    "        w = torch.randn(size=(input_dim, output_dim), device=device)\n",
    "        b = torch.randn(output_dim, device=device)\n",
    "        self.w = w / torch.norm(w)\n",
    "        self.b = b /torch.norm(b)\n",
    "        self.w.requires_grad = True\n",
    "        self.b.requires_grad = True\n",
    "#         print('Weight shape: ', self.w.shape)\n",
    "#         print('Bias shape: ', self.b.shape)\n",
    "        \n",
    "    def forward(self, x):\n",
    "        w = self.w\n",
    "        bias = self.b\n",
    "        out = torch.mm(x, w) + bias\n",
    "        out = softmax(out)\n",
    "        return out.squeeze()\n",
    "    \n",
    "    def parameters(self):\n",
    "        return [self.w, self.b]\n",
    "    \n",
    "    def zero_grad(self):\n",
    "        self.w.grad = None\n",
    "        self.b.grad = None\n",
    "        \n",
    "    def __call__(self, x):\n",
    "        return self.forward(x)"
   ]
  },
  {
   "cell_type": "code",
   "execution_count": 30,
   "metadata": {},
   "outputs": [],
   "source": [
    "def test(net, test_loader, device):\n",
    "    loss = 0\n",
    "    error = 0\n",
    "    for i, (images, labels) in enumerate(test_loader):\n",
    "        images, labels = images.to(device), labels.to(device)\n",
    "        images = images.view(-1, input_dim)\n",
    "        with torch.no_grad():\n",
    "            out = net(images)\n",
    "            loss += cross_entropy(out, labels).item()\n",
    "            error += (out.argmax(1) != labels).sum().item()\n",
    "    loss /= i       \n",
    "    print('Loss: %.4f, Error: %d' % (loss, error))"
   ]
  },
  {
   "cell_type": "code",
   "execution_count": 110,
   "metadata": {},
   "outputs": [],
   "source": [
    "def train(net, train_loader, device):\n",
    "    params = net.parameters()\n",
    "    lr = 0.1\n",
    "    \n",
    "    loss = 0\n",
    "    error = 0\n",
    "    for i, (images, labels) in enumerate(train_loader):\n",
    "        images, labels = images.to(device), labels.to(device)\n",
    "        images = images.view(-1, 784)\n",
    "        \n",
    "        out = net(images)\n",
    "        loss_batch = cross_entropy(out, labels)\n",
    "        loss_batch = loss_batch + 1 * l2_penalty(net.w)\n",
    "        \n",
    "        net.zero_grad()\n",
    "        loss_batch.backward()\n",
    "#         SGD(params, lr)\n",
    "        opt.step()\n",
    "        \n",
    "        loss += loss_batch.item()\n",
    "        error += (out.argmax(1) != labels).sum().item()\n",
    "    loss /= i       \n",
    "    print('Loss: %.4f, Error: %d' % (loss, error))"
   ]
  },
  {
   "cell_type": "code",
   "execution_count": 111,
   "metadata": {},
   "outputs": [
    {
     "name": "stdout",
     "output_type": "stream",
     "text": [
      "Loss: 2.3558, Error: 8961\n",
      "tensor(0.0091, grad_fn=<MeanBackward1>)\n",
      "Loss: 2.1695, Error: 37418\n",
      "Loss: 2.1325, Error: 7418\n",
      "tensor(0.0215, grad_fn=<MeanBackward1>)\n",
      "Loss: 2.1481, Error: 36898\n",
      "Loss: 2.1299, Error: 7288\n",
      "tensor(0.0242, grad_fn=<MeanBackward1>)\n",
      "Loss: 2.1436, Error: 36611\n",
      "Loss: 2.1603, Error: 7404\n",
      "tensor(0.0246, grad_fn=<MeanBackward1>)\n",
      "Loss: 2.1409, Error: 36761\n",
      "Loss: 2.1711, Error: 7541\n",
      "tensor(0.0262, grad_fn=<MeanBackward1>)\n",
      "Loss: 2.1464, Error: 36714\n",
      "Loss: 2.1356, Error: 7285\n",
      "tensor(0.0268, grad_fn=<MeanBackward1>)\n",
      "Loss: 2.1485, Error: 36786\n",
      "Loss: 2.1293, Error: 7520\n",
      "tensor(0.0265, grad_fn=<MeanBackward1>)\n",
      "Loss: 2.1412, Error: 36620\n",
      "Loss: 2.1223, Error: 7362\n",
      "tensor(0.0270, grad_fn=<MeanBackward1>)\n",
      "Loss: 2.1407, Error: 36569\n",
      "Loss: 2.1257, Error: 7385\n",
      "tensor(0.0273, grad_fn=<MeanBackward1>)\n",
      "Loss: 2.1410, Error: 36575\n",
      "Loss: 2.2046, Error: 7588\n",
      "tensor(0.0281, grad_fn=<MeanBackward1>)\n",
      "Loss: 2.1421, Error: 36706\n",
      "Loss: 2.1973, Error: 7545\n",
      "tensor(0.0282, grad_fn=<MeanBackward1>)\n",
      "Loss: 2.1454, Error: 36671\n",
      "Loss: 2.1731, Error: 7488\n",
      "tensor(0.0280, grad_fn=<MeanBackward1>)\n",
      "Loss: 2.1419, Error: 36548\n",
      "Loss: 2.1653, Error: 7643\n",
      "tensor(0.0279, grad_fn=<MeanBackward1>)\n",
      "Loss: 2.1435, Error: 36571\n",
      "Loss: 2.1665, Error: 7432\n",
      "tensor(0.0284, grad_fn=<MeanBackward1>)\n",
      "Loss: 2.1403, Error: 36434\n",
      "Loss: 2.1313, Error: 7278\n",
      "tensor(0.0285, grad_fn=<MeanBackward1>)\n",
      "Loss: 2.1462, Error: 36713\n",
      "Loss: 2.1552, Error: 7490\n",
      "tensor(0.0286, grad_fn=<MeanBackward1>)\n",
      "Loss: 2.1392, Error: 36502\n",
      "Loss: 2.1511, Error: 7400\n",
      "tensor(0.0285, grad_fn=<MeanBackward1>)\n",
      "Loss: nan, Error: 42543\n",
      "Loss: nan, Error: 9000\n",
      "tensor(nan, grad_fn=<MeanBackward1>)\n",
      "Loss: nan, Error: 45000\n"
     ]
    },
    {
     "ename": "KeyboardInterrupt",
     "evalue": "",
     "output_type": "error",
     "traceback": [
      "\u001b[0;31m---------------------------------------------------------------------------\u001b[0m",
      "\u001b[0;31mKeyboardInterrupt\u001b[0m                         Traceback (most recent call last)",
      "\u001b[0;32m<ipython-input-111-384cbfa0000b>\u001b[0m in \u001b[0;36m<module>\u001b[0;34m()\u001b[0m\n\u001b[1;32m      6\u001b[0m \u001b[0;32mfor\u001b[0m \u001b[0mepochs\u001b[0m \u001b[0;32min\u001b[0m \u001b[0mrange\u001b[0m\u001b[0;34m(\u001b[0m\u001b[0;36m50\u001b[0m\u001b[0;34m)\u001b[0m\u001b[0;34m:\u001b[0m\u001b[0;34m\u001b[0m\u001b[0m\n\u001b[1;32m      7\u001b[0m     \u001b[0mtrain\u001b[0m\u001b[0;34m(\u001b[0m\u001b[0mnet\u001b[0m\u001b[0;34m,\u001b[0m \u001b[0mtrain_loader\u001b[0m\u001b[0;34m,\u001b[0m \u001b[0mdevice\u001b[0m\u001b[0;34m)\u001b[0m\u001b[0;34m\u001b[0m\u001b[0m\n\u001b[0;32m----> 8\u001b[0;31m     \u001b[0mtest\u001b[0m\u001b[0;34m(\u001b[0m\u001b[0mnet\u001b[0m\u001b[0;34m,\u001b[0m \u001b[0mtest_loader\u001b[0m\u001b[0;34m,\u001b[0m \u001b[0mdevice\u001b[0m\u001b[0;34m)\u001b[0m\u001b[0;34m\u001b[0m\u001b[0m\n\u001b[0m\u001b[1;32m      9\u001b[0m     \u001b[0;32mprint\u001b[0m \u001b[0ml2_penalty\u001b[0m\u001b[0;34m(\u001b[0m\u001b[0mnet\u001b[0m\u001b[0;34m.\u001b[0m\u001b[0mw\u001b[0m\u001b[0;34m)\u001b[0m\u001b[0;34m\u001b[0m\u001b[0m\n",
      "\u001b[0;32m<ipython-input-30-a991c8a57f2b>\u001b[0m in \u001b[0;36mtest\u001b[0;34m(net, test_loader, device)\u001b[0m\n\u001b[1;32m      2\u001b[0m     \u001b[0mloss\u001b[0m \u001b[0;34m=\u001b[0m \u001b[0;36m0\u001b[0m\u001b[0;34m\u001b[0m\u001b[0m\n\u001b[1;32m      3\u001b[0m     \u001b[0merror\u001b[0m \u001b[0;34m=\u001b[0m \u001b[0;36m0\u001b[0m\u001b[0;34m\u001b[0m\u001b[0m\n\u001b[0;32m----> 4\u001b[0;31m     \u001b[0;32mfor\u001b[0m \u001b[0mi\u001b[0m\u001b[0;34m,\u001b[0m \u001b[0;34m(\u001b[0m\u001b[0mimages\u001b[0m\u001b[0;34m,\u001b[0m \u001b[0mlabels\u001b[0m\u001b[0;34m)\u001b[0m \u001b[0;32min\u001b[0m \u001b[0menumerate\u001b[0m\u001b[0;34m(\u001b[0m\u001b[0mtest_loader\u001b[0m\u001b[0;34m)\u001b[0m\u001b[0;34m:\u001b[0m\u001b[0;34m\u001b[0m\u001b[0m\n\u001b[0m\u001b[1;32m      5\u001b[0m         \u001b[0mimages\u001b[0m\u001b[0;34m,\u001b[0m \u001b[0mlabels\u001b[0m \u001b[0;34m=\u001b[0m \u001b[0mimages\u001b[0m\u001b[0;34m.\u001b[0m\u001b[0mto\u001b[0m\u001b[0;34m(\u001b[0m\u001b[0mdevice\u001b[0m\u001b[0;34m)\u001b[0m\u001b[0;34m,\u001b[0m \u001b[0mlabels\u001b[0m\u001b[0;34m.\u001b[0m\u001b[0mto\u001b[0m\u001b[0;34m(\u001b[0m\u001b[0mdevice\u001b[0m\u001b[0;34m)\u001b[0m\u001b[0;34m\u001b[0m\u001b[0m\n\u001b[1;32m      6\u001b[0m         \u001b[0mimages\u001b[0m \u001b[0;34m=\u001b[0m \u001b[0mimages\u001b[0m\u001b[0;34m.\u001b[0m\u001b[0mview\u001b[0m\u001b[0;34m(\u001b[0m\u001b[0;34m-\u001b[0m\u001b[0;36m1\u001b[0m\u001b[0;34m,\u001b[0m \u001b[0minput_dim\u001b[0m\u001b[0;34m)\u001b[0m\u001b[0;34m\u001b[0m\u001b[0m\n",
      "\u001b[0;32m/Users/anuvabh/miniconda2/lib/python2.7/site-packages/torch/utils/data/dataloader.pyc\u001b[0m in \u001b[0;36m__next__\u001b[0;34m(self)\u001b[0m\n\u001b[1;32m    613\u001b[0m         \u001b[0;32mif\u001b[0m \u001b[0mself\u001b[0m\u001b[0;34m.\u001b[0m\u001b[0mnum_workers\u001b[0m \u001b[0;34m==\u001b[0m \u001b[0;36m0\u001b[0m\u001b[0;34m:\u001b[0m  \u001b[0;31m# same-process loading\u001b[0m\u001b[0;34m\u001b[0m\u001b[0m\n\u001b[1;32m    614\u001b[0m             \u001b[0mindices\u001b[0m \u001b[0;34m=\u001b[0m \u001b[0mnext\u001b[0m\u001b[0;34m(\u001b[0m\u001b[0mself\u001b[0m\u001b[0;34m.\u001b[0m\u001b[0msample_iter\u001b[0m\u001b[0;34m)\u001b[0m  \u001b[0;31m# may raise StopIteration\u001b[0m\u001b[0;34m\u001b[0m\u001b[0m\n\u001b[0;32m--> 615\u001b[0;31m             \u001b[0mbatch\u001b[0m \u001b[0;34m=\u001b[0m \u001b[0mself\u001b[0m\u001b[0;34m.\u001b[0m\u001b[0mcollate_fn\u001b[0m\u001b[0;34m(\u001b[0m\u001b[0;34m[\u001b[0m\u001b[0mself\u001b[0m\u001b[0;34m.\u001b[0m\u001b[0mdataset\u001b[0m\u001b[0;34m[\u001b[0m\u001b[0mi\u001b[0m\u001b[0;34m]\u001b[0m \u001b[0;32mfor\u001b[0m \u001b[0mi\u001b[0m \u001b[0;32min\u001b[0m \u001b[0mindices\u001b[0m\u001b[0;34m]\u001b[0m\u001b[0;34m)\u001b[0m\u001b[0;34m\u001b[0m\u001b[0m\n\u001b[0m\u001b[1;32m    616\u001b[0m             \u001b[0;32mif\u001b[0m \u001b[0mself\u001b[0m\u001b[0;34m.\u001b[0m\u001b[0mpin_memory\u001b[0m\u001b[0;34m:\u001b[0m\u001b[0;34m\u001b[0m\u001b[0m\n\u001b[1;32m    617\u001b[0m                 \u001b[0mbatch\u001b[0m \u001b[0;34m=\u001b[0m \u001b[0mpin_memory_batch\u001b[0m\u001b[0;34m(\u001b[0m\u001b[0mbatch\u001b[0m\u001b[0;34m)\u001b[0m\u001b[0;34m\u001b[0m\u001b[0m\n",
      "\u001b[0;32m/Users/anuvabh/miniconda2/lib/python2.7/site-packages/torchvision/datasets/cifar.pyc\u001b[0m in \u001b[0;36m__getitem__\u001b[0;34m(self, index)\u001b[0m\n\u001b[1;32m    122\u001b[0m \u001b[0;34m\u001b[0m\u001b[0m\n\u001b[1;32m    123\u001b[0m         \u001b[0;32mif\u001b[0m \u001b[0mself\u001b[0m\u001b[0;34m.\u001b[0m\u001b[0mtransform\u001b[0m \u001b[0;32mis\u001b[0m \u001b[0;32mnot\u001b[0m \u001b[0mNone\u001b[0m\u001b[0;34m:\u001b[0m\u001b[0;34m\u001b[0m\u001b[0m\n\u001b[0;32m--> 124\u001b[0;31m             \u001b[0mimg\u001b[0m \u001b[0;34m=\u001b[0m \u001b[0mself\u001b[0m\u001b[0;34m.\u001b[0m\u001b[0mtransform\u001b[0m\u001b[0;34m(\u001b[0m\u001b[0mimg\u001b[0m\u001b[0;34m)\u001b[0m\u001b[0;34m\u001b[0m\u001b[0m\n\u001b[0m\u001b[1;32m    125\u001b[0m \u001b[0;34m\u001b[0m\u001b[0m\n\u001b[1;32m    126\u001b[0m         \u001b[0;32mif\u001b[0m \u001b[0mself\u001b[0m\u001b[0;34m.\u001b[0m\u001b[0mtarget_transform\u001b[0m \u001b[0;32mis\u001b[0m \u001b[0;32mnot\u001b[0m \u001b[0mNone\u001b[0m\u001b[0;34m:\u001b[0m\u001b[0;34m\u001b[0m\u001b[0m\n",
      "\u001b[0;32m/Users/anuvabh/miniconda2/lib/python2.7/site-packages/torchvision/transforms/transforms.pyc\u001b[0m in \u001b[0;36m__call__\u001b[0;34m(self, img)\u001b[0m\n\u001b[1;32m     58\u001b[0m     \u001b[0;32mdef\u001b[0m \u001b[0m__call__\u001b[0m\u001b[0;34m(\u001b[0m\u001b[0mself\u001b[0m\u001b[0;34m,\u001b[0m \u001b[0mimg\u001b[0m\u001b[0;34m)\u001b[0m\u001b[0;34m:\u001b[0m\u001b[0;34m\u001b[0m\u001b[0m\n\u001b[1;32m     59\u001b[0m         \u001b[0;32mfor\u001b[0m \u001b[0mt\u001b[0m \u001b[0;32min\u001b[0m \u001b[0mself\u001b[0m\u001b[0;34m.\u001b[0m\u001b[0mtransforms\u001b[0m\u001b[0;34m:\u001b[0m\u001b[0;34m\u001b[0m\u001b[0m\n\u001b[0;32m---> 60\u001b[0;31m             \u001b[0mimg\u001b[0m \u001b[0;34m=\u001b[0m \u001b[0mt\u001b[0m\u001b[0;34m(\u001b[0m\u001b[0mimg\u001b[0m\u001b[0;34m)\u001b[0m\u001b[0;34m\u001b[0m\u001b[0m\n\u001b[0m\u001b[1;32m     61\u001b[0m         \u001b[0;32mreturn\u001b[0m \u001b[0mimg\u001b[0m\u001b[0;34m\u001b[0m\u001b[0m\n\u001b[1;32m     62\u001b[0m \u001b[0;34m\u001b[0m\u001b[0m\n",
      "\u001b[0;32m/Users/anuvabh/miniconda2/lib/python2.7/site-packages/torchvision/transforms/transforms.pyc\u001b[0m in \u001b[0;36m__call__\u001b[0;34m(self, img)\u001b[0m\n\u001b[1;32m   1053\u001b[0m         \u001b[0mself\u001b[0m\u001b[0;34m.\u001b[0m\u001b[0mnum_output_channels\u001b[0m \u001b[0;34m=\u001b[0m \u001b[0mnum_output_channels\u001b[0m\u001b[0;34m\u001b[0m\u001b[0m\n\u001b[1;32m   1054\u001b[0m \u001b[0;34m\u001b[0m\u001b[0m\n\u001b[0;32m-> 1055\u001b[0;31m     \u001b[0;32mdef\u001b[0m \u001b[0m__call__\u001b[0m\u001b[0;34m(\u001b[0m\u001b[0mself\u001b[0m\u001b[0;34m,\u001b[0m \u001b[0mimg\u001b[0m\u001b[0;34m)\u001b[0m\u001b[0;34m:\u001b[0m\u001b[0;34m\u001b[0m\u001b[0m\n\u001b[0m\u001b[1;32m   1056\u001b[0m         \"\"\"\n\u001b[1;32m   1057\u001b[0m         \u001b[0mArgs\u001b[0m\u001b[0;34m:\u001b[0m\u001b[0;34m\u001b[0m\u001b[0m\n",
      "\u001b[0;31mKeyboardInterrupt\u001b[0m: "
     ]
    }
   ],
   "source": [
    "net = Net(input_dim, output_dim, device)\n",
    "opt = torch.optim.Adam(net.parameters(), lr=0.003)\n",
    "\n",
    "test(net, test_loader, device)\n",
    "print l2_penalty(net.w)\n",
    "for epochs in range(50):\n",
    "    train(net, train_loader, device)\n",
    "    test(net, test_loader, device)\n",
    "    print l2_penalty(net.w)"
   ]
  },
  {
   "cell_type": "code",
   "execution_count": 64,
   "metadata": {
    "collapsed": true
   },
   "outputs": [
    {
     "name": "stdout",
     "output_type": "stream",
     "text": [
      "tensor([[-1.4813,  0.3770,  1.1661,  1.1120,  0.7396],\n",
      "        [-1.1656,  0.3580, -1.0823,  1.3389,  0.7177],\n",
      "        [ 0.8475, -1.3822, -0.1256, -0.7188, -1.2978],\n",
      "        [ 1.3189,  1.2414, -0.3685,  0.1967, -0.3643],\n",
      "        [-0.6959,  0.3633, -0.3550, -0.6447, -0.6605],\n",
      "        [-0.9395,  0.2178, -2.1892, -1.5369,  1.2575],\n",
      "        [ 2.0529, -1.3377, -1.8684, -0.3506, -0.3648],\n",
      "        [ 0.1550,  1.9691, -0.3749, -0.4108,  0.0268],\n",
      "        [ 0.0091, -0.1698,  0.2955,  0.1400, -0.7759],\n",
      "        [-0.7668,  0.9081,  0.9108, -2.1320,  1.0144]])\n",
      "tensor([[0],\n",
      "        [2],\n",
      "        [0],\n",
      "        [2],\n",
      "        [0],\n",
      "        [4],\n",
      "        [0],\n",
      "        [4],\n",
      "        [2],\n",
      "        [3]])\n"
     ]
    }
   ],
   "source": [
    "a = torch.randn(10, 5)\n",
    "b = (torch.rand(10)*5).long()\n",
    "\n",
    "print a\n",
    "print b.view(-1, 1)\n",
    "\n",
    "# torch.gather(a, 1, b.view(-1, 1))\n"
   ]
  }
 ],
 "metadata": {
  "kernelspec": {
   "display_name": "Python 2",
   "language": "python",
   "name": "python2"
  },
  "language_info": {
   "codemirror_mode": {
    "name": "ipython",
    "version": 2
   },
   "file_extension": ".py",
   "mimetype": "text/x-python",
   "name": "python",
   "nbconvert_exporter": "python",
   "pygments_lexer": "ipython2",
   "version": "2.7.14"
  }
 },
 "nbformat": 4,
 "nbformat_minor": 2
}
